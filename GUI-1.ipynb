{
 "cells": [
  {
   "cell_type": "markdown",
   "id": "ac89e9e0",
   "metadata": {},
   "source": [
    "Creating customise window"
   ]
  },
  {
   "cell_type": "code",
   "execution_count": 33,
   "id": "1ef92d3d",
   "metadata": {},
   "outputs": [],
   "source": [
    "from tkinter import *\n",
    "r=Tk()\n",
    "r.geometry(\"500x500\")\n",
    "r.title(\"my tital\")\n",
    "r.configure(bg=\"red\")\n",
    "#creating lable\n",
    "rn=Label(r,text=\"RollNo\")\n",
    "rn.place(x=20,y=20)\n",
    "fn=Label(r,text=\"FirstName\")\n",
    "fn.place(x=20,y=60)\n",
    "ln=Label(r,text=\"LastName\")\n",
    "ln.place(x=20,y=100)\n",
    "em=Label(r,text=\"Email\")\n",
    "em.place(x=20,y=140)\n",
    "#creating Entery\n",
    "ern=Entry()\n",
    "ern.place(x=100,y=20)\n",
    "efn=Entry()\n",
    "efn.place(x=100,y=60)\n",
    "eln=Entry()\n",
    "eln.place(x=100,y=100)\n",
    "eem=Entry()\n",
    "eem.place(x=100,y=140)\n",
    "#create Button\n",
    "button=Button(r,text=\"search\",bg=\"white\")\n",
    "button.place(x=20,y=200)\n",
    "mainloop()"
   ]
  },
  {
   "cell_type": "code",
   "execution_count": null,
   "id": "63418db7",
   "metadata": {},
   "outputs": [],
   "source": []
  }
 ],
 "metadata": {
  "kernelspec": {
   "display_name": "Python 3 (ipykernel)",
   "language": "python",
   "name": "python3"
  },
  "language_info": {
   "codemirror_mode": {
    "name": "ipython",
    "version": 3
   },
   "file_extension": ".py",
   "mimetype": "text/x-python",
   "name": "python",
   "nbconvert_exporter": "python",
   "pygments_lexer": "ipython3",
   "version": "3.10.9"
  }
 },
 "nbformat": 4,
 "nbformat_minor": 5
}
