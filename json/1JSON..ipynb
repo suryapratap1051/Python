{
 "cells": [
  {
   "cell_type": "code",
   "execution_count": 1,
   "id": "0d2c8a8d",
   "metadata": {},
   "outputs": [
    {
     "name": "stdout",
     "output_type": "stream",
     "text": [
      "['JSONDecodeError', 'JSONDecoder', 'JSONEncoder', '__all__', '__author__', '__builtins__', '__cached__', '__doc__', '__file__', '__loader__', '__name__', '__package__', '__path__', '__spec__', '__version__', '_default_decoder', '_default_encoder', 'codecs', 'decoder', 'detect_encoding', 'dump', 'dumps', 'encoder', 'load', 'loads', 'scanner']\n"
     ]
    }
   ],
   "source": [
    "import json  \n",
    "print(dir(json))  "
   ]
  },
  {
   "cell_type": "markdown",
   "id": "60812f03",
   "metadata": {},
   "source": [
    "# the function dump()"
   ]
  },
  {
   "cell_type": "code",
   "execution_count": 8,
   "id": "af4a2315",
   "metadata": {},
   "outputs": [],
   "source": [
    "student={  \n",
    "\"Name\":\"Peter\",  \n",
    "\"Roll_no\":\"0090014\",  \n",
    "\"Grade\":\"A\",  \n",
    "\"Age\":20,  \n",
    "\"Subject\":[\"Computer Graphics\", \"Discrete Mathematics\", \"Data Structure\"]  \n",
    "} \n",
    "with open(\"data.json\",\"w\") as write_file:  \n",
    "     json.dump(student,write_file)  "
   ]
  },
  {
   "cell_type": "markdown",
   "id": "7a527bc3",
   "metadata": {},
   "source": [
    "# the function dumps()"
   ]
  },
  {
   "cell_type": "code",
   "execution_count": 9,
   "id": "73b72b98",
   "metadata": {},
   "outputs": [],
   "source": [
    "student={  \n",
    "\"Name\":\"Peter\",  \n",
    "\"Roll_no\":\"0090014\",  \n",
    "\"Grade\":\"A\",  \n",
    "\"Age\":20  \n",
    "}  "
   ]
  },
  {
   "cell_type": "code",
   "execution_count": 10,
   "id": "85a6d158",
   "metadata": {},
   "outputs": [],
   "source": [
    "b=json.dumps(student)  "
   ]
  },
  {
   "cell_type": "code",
   "execution_count": 11,
   "id": "54f19635",
   "metadata": {},
   "outputs": [
    {
     "data": {
      "text/plain": [
       "'{\"Name\": \"Peter\", \"Roll_no\": \"0090014\", \"Grade\": \"A\", \"Age\": 20}'"
      ]
     },
     "execution_count": 11,
     "metadata": {},
     "output_type": "execute_result"
    }
   ],
   "source": [
    "b"
   ]
  },
  {
   "cell_type": "code",
   "execution_count": 12,
   "id": "e6f01af8",
   "metadata": {},
   "outputs": [
    {
     "name": "stdout",
     "output_type": "stream",
     "text": [
      "[\"Welcome\", \"to\", \"javaTpoint\"]\n",
      "[\"Welcome\", \"to\", \"javaTpoint\"]\n",
      "\"Hello\"\n",
      "1234\n",
      "23.572\n",
      "true\n",
      "false\n",
      "null\n"
     ]
    }
   ],
   "source": [
    "import json  \n",
    "#Python list conversion to JSON  Array   \n",
    "print(json.dumps(['Welcome',\"to\",\"javaTpoint\"]))  \n",
    "  \n",
    "#Python tuple conversion to JSON Array   \n",
    "print(json.dumps((\"Welcome\",\"to\",\"javaTpoint\")))  \n",
    "  \n",
    "# Python string conversion to JSON String   \n",
    "print(json.dumps(\"Hello\"))  \n",
    "  \n",
    "# Python int conversion to JSON Number   \n",
    "print(json.dumps(1234))  \n",
    "  \n",
    "# Python float conversion to JSON Number   \n",
    "print(json.dumps(23.572))  \n",
    "  \n",
    "# Boolean conversion to their respective values   \n",
    "print(json.dumps(True))  \n",
    "print(json.dumps(False))  \n",
    "  \n",
    "# None value to null   \n",
    "print(json.dumps(None))   "
   ]
  },
  {
   "cell_type": "markdown",
   "id": "af893300",
   "metadata": {},
   "source": [
    "# JSON Deserialization"
   ]
  },
  {
   "cell_type": "code",
   "execution_count": 14,
   "id": "a0b75f7b",
   "metadata": {},
   "outputs": [
    {
     "name": "stdout",
     "output_type": "stream",
     "text": [
      "<class 'tuple'>\n"
     ]
    }
   ],
   "source": [
    "import json  \n",
    "a=(10,20,30,40,50,60,70)  \n",
    "print(type(a))  "
   ]
  },
  {
   "cell_type": "code",
   "execution_count": 15,
   "id": "64aae5ba",
   "metadata": {},
   "outputs": [
    {
     "name": "stdout",
     "output_type": "stream",
     "text": [
      "<class 'list'>\n"
     ]
    }
   ],
   "source": [
    "b=json.dumps(a)  \n",
    "print(type(json.loads(b))) "
   ]
  },
  {
   "cell_type": "code",
   "execution_count": 20,
   "id": "140ead59",
   "metadata": {},
   "outputs": [
    {
     "name": "stdout",
     "output_type": "stream",
     "text": [
      "{'Name': 'Peter', 'Roll_no': '0090014', 'Grade': 'A', 'Age': 20}\n"
     ]
    }
   ],
   "source": [
    "import json  \n",
    "# Key:value mapping  \n",
    "student  = {  \n",
    "\"Name\":\"Peter\",  \n",
    "\"Roll_no\":\"0090014\",  \n",
    "\"Grade\":\"A\",  \n",
    "\"Age\":20,  \n",
    "}  \n",
    "  \n",
    "with open(\"data.json\",\"w\") as write_file:  \n",
    "    json.dump(student,write_file)  \n",
    "  \n",
    "with open(\"data.json\", \"r\") as read_file:  \n",
    "    b=json.load(read_file)  \n",
    "print(b)  "
   ]
  },
  {
   "cell_type": "code",
   "execution_count": 23,
   "id": "b5dadaaa",
   "metadata": {},
   "outputs": [],
   "source": [
    "import json  \n",
    "a=[\"Mathew\",\"Peter\",(10,32.9,80),{\"Name\" : \"Tokyo\"}]  \n",
    "  \n",
    "# Python object into JSON   \n",
    "b=json.dumps(a)  "
   ]
  },
  {
   "cell_type": "code",
   "execution_count": 24,
   "id": "71fb49b3",
   "metadata": {},
   "outputs": [
    {
     "data": {
      "text/plain": [
       "'[\"Mathew\", \"Peter\", [10, 32.9, 80], {\"Name\": \"Tokyo\"}]'"
      ]
     },
     "execution_count": 24,
     "metadata": {},
     "output_type": "execute_result"
    }
   ],
   "source": [
    "b"
   ]
  },
  {
   "cell_type": "code",
   "execution_count": 25,
   "id": "48cef59e",
   "metadata": {},
   "outputs": [
    {
     "name": "stdout",
     "output_type": "stream",
     "text": [
      "['Mathew', 'Peter', [10, 32.9, 80], {'Name': 'Tokyo'}]\n"
     ]
    }
   ],
   "source": [
    "# JSON into Python Object  \n",
    "c=json.loads(b)  \n",
    "print(c)  "
   ]
  },
  {
   "cell_type": "code",
   "execution_count": 32,
   "id": "08521da5",
   "metadata": {},
   "outputs": [
    {
     "name": "stdout",
     "output_type": "stream",
     "text": [
      "Collecting demjson\n",
      "  Using cached demjson-2.2.4.tar.gz (131 kB)\n",
      "  Preparing metadata (setup.py): started\n",
      "  Preparing metadata (setup.py): finished with status 'error'\n"
     ]
    },
    {
     "name": "stderr",
     "output_type": "stream",
     "text": [
      "  error: subprocess-exited-with-error\n",
      "  \n",
      "  python setup.py egg_info did not run successfully.\n",
      "  exit code: 1\n",
      "  \n",
      "  [1 lines of output]\n",
      "  error in demjson setup command: use_2to3 is invalid.\n",
      "  [end of output]\n",
      "  \n",
      "  note: This error originates from a subprocess, and is likely not a problem with pip.\n",
      "error: metadata-generation-failed\n",
      "\n",
      "Encountered error while generating package metadata.\n",
      "\n",
      "See above for output.\n",
      "\n",
      "note: This is an issue with the package mentioned above, not pip.\n",
      "hint: See above for details.\n"
     ]
    }
   ],
   "source": [
    "!pip install demjson"
   ]
  },
  {
   "cell_type": "code",
   "execution_count": 34,
   "id": "ffcf25ec",
   "metadata": {},
   "outputs": [
    {
     "ename": "ModuleNotFoundError",
     "evalue": "No module named 'demjson'",
     "output_type": "error",
     "traceback": [
      "\u001b[1;31m---------------------------------------------------------------------------\u001b[0m",
      "\u001b[1;31mModuleNotFoundError\u001b[0m                       Traceback (most recent call last)",
      "Cell \u001b[1;32mIn[34], line 1\u001b[0m\n\u001b[1;32m----> 1\u001b[0m \u001b[38;5;28;01mimport\u001b[39;00m \u001b[38;5;21;01mdemjson\u001b[39;00m  \n\u001b[0;32m      2\u001b[0m a\u001b[38;5;241m=\u001b[39m[{\u001b[38;5;124m\"\u001b[39m\u001b[38;5;124mName\u001b[39m\u001b[38;5;124m\"\u001b[39m: \u001b[38;5;124m'\u001b[39m\u001b[38;5;124mPeter\u001b[39m\u001b[38;5;124m'\u001b[39m,\u001b[38;5;124m\"\u001b[39m\u001b[38;5;124mAge\u001b[39m\u001b[38;5;124m\"\u001b[39m:\u001b[38;5;241m20\u001b[39m, \u001b[38;5;124m\"\u001b[39m\u001b[38;5;124mSubject\u001b[39m\u001b[38;5;124m\"\u001b[39m:\u001b[38;5;124m\"\u001b[39m\u001b[38;5;124mElectronics\u001b[39m\u001b[38;5;124m\"\u001b[39m}]  \n\u001b[0;32m      3\u001b[0m \u001b[38;5;28mprint\u001b[39m(demjson\u001b[38;5;241m.\u001b[39mencode(a))\n",
      "\u001b[1;31mModuleNotFoundError\u001b[0m: No module named 'demjson'"
     ]
    }
   ],
   "source": [
    "import demjson  \n",
    "a=[{\"Name\": 'Peter',\"Age\":20, \"Subject\":\"Electronics\"}]  \n",
    "print(demjson.encode(a)) "
   ]
  },
  {
   "cell_type": "code",
   "execution_count": null,
   "id": "db3512ea",
   "metadata": {},
   "outputs": [],
   "source": []
  }
 ],
 "metadata": {
  "kernelspec": {
   "display_name": "Python 3 (ipykernel)",
   "language": "python",
   "name": "python3"
  },
  "language_info": {
   "codemirror_mode": {
    "name": "ipython",
    "version": 3
   },
   "file_extension": ".py",
   "mimetype": "text/x-python",
   "name": "python",
   "nbconvert_exporter": "python",
   "pygments_lexer": "ipython3",
   "version": "3.10.9"
  }
 },
 "nbformat": 4,
 "nbformat_minor": 5
}
