{
 "cells": [
  {
   "cell_type": "code",
   "execution_count": 4,
   "id": "32fda739",
   "metadata": {},
   "outputs": [],
   "source": [
    "# Import Tkinter\n",
    "\n",
    "from tkinter import *\n",
    "\n",
    "# Creating a Main Window\n",
    "r = Tk()\n",
    "\n",
    "# MainLoop Method Called\n",
    "mainloop()"
   ]
  },
  {
   "cell_type": "markdown",
   "id": "ea715b2b",
   "metadata": {},
   "source": [
    "# Creating Customize Window"
   ]
  },
  {
   "cell_type": "code",
   "execution_count": 8,
   "id": "dfd0a2b8",
   "metadata": {},
   "outputs": [],
   "source": [
    "# Import Tkinter\n",
    "from tkinter import *\n",
    "\n",
    "# Creating Main Window\n",
    "r = Tk()\n",
    "r.geometry(\"400x400\")\n",
    "r.title(\"My Title\")\n",
    "r.configure(bg=\"Orange\")\n",
    "\n",
    "\n",
    "mainloop()"
   ]
  },
  {
   "cell_type": "markdown",
   "id": "317bbb2a",
   "metadata": {},
   "source": [
    "# Adding Widgets into Window"
   ]
  },
  {
   "cell_type": "code",
   "execution_count": 1,
   "id": "750187b3",
   "metadata": {},
   "outputs": [
    {
     "ename": "NameError",
     "evalue": "name 'Tk' is not defined",
     "output_type": "error",
     "traceback": [
      "\u001b[1;31m---------------------------------------------------------------------------\u001b[0m",
      "\u001b[1;31mNameError\u001b[0m                                 Traceback (most recent call last)",
      "\u001b[1;32m<ipython-input-1-afba9f228b25>\u001b[0m in \u001b[0;36m<module>\u001b[1;34m\u001b[0m\n\u001b[0;32m      3\u001b[0m \u001b[1;33m\u001b[0m\u001b[0m\n\u001b[0;32m      4\u001b[0m \u001b[1;31m# Creating Main Window\u001b[0m\u001b[1;33m\u001b[0m\u001b[1;33m\u001b[0m\u001b[1;33m\u001b[0m\u001b[0m\n\u001b[1;32m----> 5\u001b[1;33m \u001b[0mr\u001b[0m \u001b[1;33m=\u001b[0m \u001b[0mTk\u001b[0m\u001b[1;33m(\u001b[0m\u001b[1;33m)\u001b[0m\u001b[1;33m\u001b[0m\u001b[1;33m\u001b[0m\u001b[0m\n\u001b[0m\u001b[0;32m      6\u001b[0m \u001b[0mr\u001b[0m\u001b[1;33m.\u001b[0m\u001b[0mgeometry\u001b[0m\u001b[1;33m(\u001b[0m\u001b[1;34m\"400x400\"\u001b[0m\u001b[1;33m)\u001b[0m\u001b[1;33m\u001b[0m\u001b[1;33m\u001b[0m\u001b[0m\n\u001b[0;32m      7\u001b[0m \u001b[0mr\u001b[0m\u001b[1;33m.\u001b[0m\u001b[0mtitle\u001b[0m\u001b[1;33m(\u001b[0m\u001b[1;34m\"My Title\"\u001b[0m\u001b[1;33m)\u001b[0m\u001b[1;33m\u001b[0m\u001b[1;33m\u001b[0m\u001b[0m\n",
      "\u001b[1;31mNameError\u001b[0m: name 'Tk' is not defined"
     ]
    }
   ],
   "source": [
    "# Import Tkinter\n",
    "from tkinter import *\n",
    "\n",
    "# Creating Main Window\n",
    "r = Tk()\n",
    "r.geometry(\"400x400\")\n",
    "r.title(\"My Title\")\n",
    "r.configure(bg=\"Orange\")\n",
    "\n",
    "\n",
    "\n",
    "# Adding Labels in Main Window\n",
    "rn = Label(r,text=\"Roll No\")\n",
    "rn.place(x=20,y=20)\n",
    "\n",
    "fn = Label(r,text=\"Firstname\")\n",
    "fn.place(x=20,y=60)\n",
    "\n",
    "ln = Label(r,text=\"Lastname\")\n",
    "ln.place(x=20,y=100)\n",
    "\n",
    "em = Label(r,text=\"Email\")\n",
    "em.place(x=20,y=140)\n",
    "\n",
    "\n",
    "\n",
    "# Adding Entry box into Main Window\n",
    "ern = Entry()\n",
    "ern.place(x=100,y=20)\n",
    "\n",
    "efn = Entry()\n",
    "efn.place(x=100,y=60)\n",
    "\n",
    "eln = Entry()\n",
    "eln.place(x=100,y=100)\n",
    "\n",
    "eem = Entry()\n",
    "eem.place(x=100,y=140)\n",
    "\n",
    "\n",
    "# Adding Buttons into Main Window\n",
    "button1 = Button(r,text=\"Button1\",bg=\"White\")\n",
    "button1.place(x=20,y=200)\n",
    "mainloop()"
   ]
  },
  {
   "cell_type": "code",
   "execution_count": null,
   "id": "182e2935",
   "metadata": {},
   "outputs": [],
   "source": []
  }
 ],
 "metadata": {
  "interpreter": {
   "hash": "bc96575b8bd8d426cdc22c3d54113cf54c39ff7c1f30dce2b3d12c745b60781d"
  },
  "kernelspec": {
   "display_name": "Python 3 (ipykernel)",
   "language": "python",
   "name": "python3"
  },
  "language_info": {
   "codemirror_mode": {
    "name": "ipython",
    "version": 3
   },
   "file_extension": ".py",
   "mimetype": "text/x-python",
   "name": "python",
   "nbconvert_exporter": "python",
   "pygments_lexer": "ipython3",
   "version": "3.10.9"
  }
 },
 "nbformat": 4,
 "nbformat_minor": 5
}
