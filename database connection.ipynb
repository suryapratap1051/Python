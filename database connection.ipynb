{
 "cells": [
  {
   "cell_type": "code",
   "execution_count": 4,
   "id": "f4fe06fe",
   "metadata": {},
   "outputs": [
    {
     "name": "stdout",
     "output_type": "stream",
     "text": [
      "Table Created\n"
     ]
    }
   ],
   "source": [
    "# Import Database API\n",
    "import pymysql\n",
    "\n",
    "# Database connection function\n",
    "def CreateConn():\n",
    "    return pymysql.connect(host=\"localhost\",database=\"learnvern\",\n",
    "                          user=\"root\",password=\"\",port=3306)\n",
    "\n",
    "\n",
    "# Table Create function\n",
    "\n",
    "def CreateTable():\n",
    "    conn = CreateConn()\n",
    "    cursor = conn.cursor() # helping to execute your query\n",
    "    query = \"create table student(sid int primary key auto_increment,name VARCHAR(50),email VARCHAR(50),city VARCHAR(50))\"\n",
    "    cursor.execute(query)\n",
    "    conn.commit()\n",
    "    print(\"Table Created\")\n",
    "    conn.close()\n",
    "    \n",
    "CreateTable() # Calling create table function"
   ]
  },
  {
   "cell_type": "markdown",
   "id": "05dd28d1",
   "metadata": {},
   "source": [
    "# Insert record in Database"
   ]
  },
  {
   "cell_type": "code",
   "execution_count": 7,
   "id": "0079720f",
   "metadata": {},
   "outputs": [
    {
     "name": "stdout",
     "output_type": "stream",
     "text": [
      "Enter your Name : Sunit\n",
      "Enter your Email : s@gmail.com\n",
      "Enter your City : Ahmedabad\n",
      "Data inserted\n"
     ]
    }
   ],
   "source": [
    "def InsertData(name,email,city):\n",
    "    conn = CreateConn() # Creating Connection\n",
    "    cursor = conn.cursor()\n",
    "    args = (name,email,city)\n",
    "    query = \"insert into student(name,email,city)values(%s,%s,%s)\"\n",
    "    cursor.execute(query,args)\n",
    "    conn.commit() # Saving the data using commit function\n",
    "    print(\"Data inserted\")\n",
    "    conn.close()\n",
    "    \n",
    "    \n",
    "n = input(\"Enter your Name : \")\n",
    "e = input(\"Enter your Email : \")\n",
    "c = input(\"Enter your City : \")\n",
    "\n",
    "InsertData(n,e,c)"
   ]
  }
 ],
 "metadata": {
  "kernelspec": {
   "display_name": "Python 3 (ipykernel)",
   "language": "python",
   "name": "python3"
  },
  "language_info": {
   "codemirror_mode": {
    "name": "ipython",
    "version": 3
   },
   "file_extension": ".py",
   "mimetype": "text/x-python",
   "name": "python",
   "nbconvert_exporter": "python",
   "pygments_lexer": "ipython3",
   "version": "3.10.9"
  }
 },
 "nbformat": 4,
 "nbformat_minor": 5
}
