{
 "cells": [
  {
   "cell_type": "code",
   "execution_count": 3,
   "id": "5b0e412f",
   "metadata": {},
   "outputs": [],
   "source": [
    "squaring=lambda x : x * x  \n",
    "p=squaring( 25 )  \n",
    "import math  \n",
    "q=math.sqrt ( 139 )  \n",
    "import dill  \n",
    "dill.dump_session( ' testing.pkl ' )  \n",
    "exit()  "
   ]
  },
  {
   "cell_type": "code",
   "execution_count": 1,
   "id": "283ba517",
   "metadata": {},
   "outputs": [],
   "source": [
    "globals().items()  "
   ]
  },
  {
   "cell_type": "code",
   "execution_count": null,
   "id": "71de5a63",
   "metadata": {},
   "outputs": [],
   "source": []
  },
  {
   "cell_type": "code",
   "execution_count": 2,
   "id": "cfe1aadc",
   "metadata": {},
   "outputs": [],
   "source": [
    "import dill  \n",
    "dill.load_session( ' testing.pkl ' )  \n",
    "globals().items()  "
   ]
  },
  {
   "cell_type": "code",
   "execution_count": 2,
   "id": "2c05bf61",
   "metadata": {},
   "outputs": [
    {
     "name": "stdout",
     "output_type": "stream",
     "text": [
      "{'p': 25, 'q': ' testing '}\n"
     ]
    }
   ],
   "source": [
    "import pickle  \n",
    "  \n",
    "class foobar:  \n",
    "    def __init__( self ):  \n",
    "        self.p = 25  \n",
    "        self.q = \" testing \"  \n",
    "        self.r = lambda x: x * x  \n",
    "  \n",
    "    def __getstate__( self ):  \n",
    "        attribute = self.__dict__.copy()  \n",
    "        del attribute[ 'r' ]  \n",
    "        return attribute  \n",
    "  \n",
    "user_foobar_instance = foobar()  \n",
    "user_pickle_string = pickle.dumps( user_foobar_instance )  \n",
    "user_new_instance = pickle.loads( user_pickle_string )  \n",
    "  \n",
    "print( user_new_instance.__dict__ )  "
   ]
  },
  {
   "cell_type": "code",
   "execution_count": null,
   "id": "efcc69c2",
   "metadata": {},
   "outputs": [],
   "source": []
  }
 ],
 "metadata": {
  "kernelspec": {
   "display_name": "Python 3 (ipykernel)",
   "language": "python",
   "name": "python3"
  },
  "language_info": {
   "codemirror_mode": {
    "name": "ipython",
    "version": 3
   },
   "file_extension": ".py",
   "mimetype": "text/x-python",
   "name": "python",
   "nbconvert_exporter": "python",
   "pygments_lexer": "ipython3",
   "version": "3.10.9"
  }
 },
 "nbformat": 4,
 "nbformat_minor": 5
}
