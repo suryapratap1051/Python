{
 "cells": [
  {
   "cell_type": "code",
   "execution_count": 1,
   "id": "a19cbf68",
   "metadata": {},
   "outputs": [
    {
     "name": "stdout",
     "output_type": "stream",
     "text": [
      " This is user's pickled object: \n",
      " b'\\x80\\x04\\x95$\\x00\\x00\\x00\\x00\\x00\\x00\\x00\\x8c\\x08__main__\\x94\\x8c\\x10forexample_class\\x94\\x93\\x94)\\x81\\x94.' \n",
      " \n",
      " This is the_dict of the unpickled object: \n",
      " {' first ': ' a ', ' second ': 2, ' third ': [1, 2, 3]} \n",
      " \n"
     ]
    }
   ],
   "source": [
    "import pickle\n",
    "class forexample_class:\n",
    "    the_number=25  \n",
    "    the_string=\" hello\"  \n",
    "    the_list=[ 1, 2, 3 ]  \n",
    "    the_dict={ \" first \": \" a \", \" second \": 2, \" third \": [ 1, 2, 3 ] }  \n",
    "    the_tuple = ( 22, 23 )  \n",
    "  \n",
    "user_object=forexample_class()  \n",
    "  \n",
    "user_pickled_object=pickle.dumps( user_object )  # here, user is Pickling the object  \n",
    "print( f\" This is user's pickled object: \\n { user_pickled_object } \\n \" )  \n",
    "  \n",
    "user_object.\n",
    "  \n",
    "user_unpickled_object=pickle.loads( user_pickled_object )  # here, user is Unpickling the object  \n",
    "print(  \n",
    "    f\" This is the_dict of the unpickled object: \\n { user_unpickled_object.the_dict } \\n \" )  "
   ]
  },
  {
   "cell_type": "code",
   "execution_count": null,
   "id": "24f5ad60",
   "metadata": {},
   "outputs": [],
   "source": []
  }
 ],
 "metadata": {
  "kernelspec": {
   "display_name": "Python 3 (ipykernel)",
   "language": "python",
   "name": "python3"
  },
  "language_info": {
   "codemirror_mode": {
    "name": "ipython",
    "version": 3
   },
   "file_extension": ".py",
   "mimetype": "text/x-python",
   "name": "python",
   "nbconvert_exporter": "python",
   "pygments_lexer": "ipython3",
   "version": "3.10.9"
  }
 },
 "nbformat": 4,
 "nbformat_minor": 5
}
